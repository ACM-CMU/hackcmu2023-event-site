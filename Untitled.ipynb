{
 "cells": [
  {
   "cell_type": "code",
   "execution_count": 3,
   "id": "859a1444",
   "metadata": {},
   "outputs": [
    {
     "name": "stdout",
     "output_type": "stream",
     "text": [
      "tv\n",
      "UD\n",
      "xz\n",
      "None\n"
     ]
    }
   ],
   "source": [
    "def ct(s):\n",
    "    t = ''\n",
    "    for i in range(3):\n",
    "        t = s[0] + s[-1]\n",
    "        s = s[1:-1]\n",
    "        print(t.lower() if (i % 2 == 0) else t.upper())\n",
    "print(ct('TUXZDV'))"
   ]
  },
  {
   "cell_type": "code",
   "execution_count": null,
   "id": "0199240f",
   "metadata": {},
   "outputs": [],
   "source": []
  }
 ],
 "metadata": {
  "kernelspec": {
   "display_name": "Python 3 (ipykernel)",
   "language": "python",
   "name": "python3"
  },
  "language_info": {
   "codemirror_mode": {
    "name": "ipython",
    "version": 3
   },
   "file_extension": ".py",
   "mimetype": "text/x-python",
   "name": "python",
   "nbconvert_exporter": "python",
   "pygments_lexer": "ipython3",
   "version": "3.10.6"
  }
 },
 "nbformat": 4,
 "nbformat_minor": 5
}
